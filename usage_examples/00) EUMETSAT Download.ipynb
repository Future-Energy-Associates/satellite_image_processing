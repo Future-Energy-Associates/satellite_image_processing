{
 "cells": [
  {
   "cell_type": "markdown",
   "metadata": {},
   "source": [
    "# EUMETSAT Download Example\n",
    "\n",
    "<br>\n",
    "\n",
    "This notebook outlines how the `satip` module can be used to download data from EUMETSAT\n",
    "\n",
    "<br>\n",
    "\n",
    "### Imports"
   ]
  },
  {
   "cell_type": "code",
   "execution_count": 1,
   "metadata": {},
   "outputs": [],
   "source": [
    "from satip import eumetsat as ems\n",
    "\n",
    "import os\n",
    "import dotenv"
   ]
  },
  {
   "cell_type": "markdown",
   "metadata": {},
   "source": [
    "<br>\n",
    "\n",
    "### User Input"
   ]
  },
  {
   "cell_type": "code",
   "execution_count": 2,
   "metadata": {},
   "outputs": [],
   "source": [
    "data_dir = '../data/raw'\n",
    "env_vars_fp = '../.env'\n",
    "debug_fp = '../logs/EUMETSAT_download.txt'\n",
    "metadata_db_fp = '../data/EUMETSAT_metadata.db'"
   ]
  },
  {
   "cell_type": "markdown",
   "metadata": {},
   "source": [
    "<br>\n",
    "\n",
    "### Authorising API Access\n",
    "\n",
    "First we'll load the the environment variables and assign the user key and secret"
   ]
  },
  {
   "cell_type": "code",
   "execution_count": 3,
   "metadata": {},
   "outputs": [],
   "source": [
    "dotenv.load_dotenv(env_vars_fp)\n",
    "\n",
    "user_key = os.environ.get('user_key')\n",
    "user_secret = os.environ.get('user_secret')"
   ]
  },
  {
   "cell_type": "markdown",
   "metadata": {},
   "source": [
    "<br>\n",
    "\n",
    "### Downloading the Data\n",
    "\n",
    "We have to initialise the DownloadManager, then we can pass date ranges over which all data will be downloaded\n",
    "\n",
    "N.b. you can also pass a `slack_webhook_url` for a channel and a `slack_id` for a user to mention and logs will be sent there"
   ]
  },
  {
   "cell_type": "code",
   "execution_count": 4,
   "metadata": {},
   "outputs": [
    {
     "name": "stderr",
     "output_type": "stream",
     "text": [
      "2020-10-30 13:36:59,845 - INFO - ********** Download Manager Initialised **************\n"
     ]
    },
    {
     "data": {
      "text/html": [
       "<div><span class=\"Text-label\" style=\"display:inline-block; overflow:hidden; white-space:nowrap; text-overflow:ellipsis; min-width:0; max-width:15ex; vertical-align:middle; text-align:right\"></span>\n",
       "<progress style=\"width:60ex\" max=\"6\" value=\"6\" class=\"Progress-main\"/></progress>\n",
       "<span class=\"Progress-label\"><strong>100%</strong></span>\n",
       "<span class=\"Iteration-label\">6/6</span>\n",
       "<span class=\"Time-label\">[00:00<00:00, 0.00s/it]</span></div>"
      ],
      "text/plain": [
       "\u001b[A\u001b[2K\r",
       " [████████████████████████████████████████████████████████████] 6/6 [00:00<00:00, 0.00s/it]"
      ]
     },
     "metadata": {},
     "output_type": "display_data"
    }
   ],
   "source": [
    "start_date = '2020-10-30 00:00'\n",
    "end_date = '2020-10-30 00:30'\n",
    "\n",
    "dm = ems.DownloadManager(user_key, user_secret, data_dir, metadata_db_fp, debug_fp)\n",
    "\n",
    "dm.download_datasets(start_date, end_date)"
   ]
  },
  {
   "cell_type": "markdown",
   "metadata": {},
   "source": [
    "<br>\n",
    "\n",
    "Metadata for each of the files is saved to a database"
   ]
  },
  {
   "cell_type": "code",
   "execution_count": 5,
   "metadata": {},
   "outputs": [
    {
     "data": {
      "text/html": [
       "<div>\n",
       "<style scoped>\n",
       "    .dataframe tbody tr th:only-of-type {\n",
       "        vertical-align: middle;\n",
       "    }\n",
       "\n",
       "    .dataframe tbody tr th {\n",
       "        vertical-align: top;\n",
       "    }\n",
       "\n",
       "    .dataframe thead th {\n",
       "        text-align: right;\n",
       "    }\n",
       "</style>\n",
       "<table border=\"1\" class=\"dataframe\">\n",
       "  <thead>\n",
       "    <tr style=\"text-align: right;\">\n",
       "      <th></th>\n",
       "      <th>start_date</th>\n",
       "      <th>end_date</th>\n",
       "      <th>result_time</th>\n",
       "      <th>platform_short_name</th>\n",
       "      <th>platform_orbit_type</th>\n",
       "      <th>instrument_name</th>\n",
       "      <th>sensor_op_mode</th>\n",
       "      <th>center_srs_name</th>\n",
       "      <th>center_position</th>\n",
       "      <th>file_name</th>\n",
       "      <th>file_size</th>\n",
       "      <th>missing_pct</th>\n",
       "      <th>downloaded</th>\n",
       "    </tr>\n",
       "    <tr>\n",
       "      <th>id</th>\n",
       "      <th></th>\n",
       "      <th></th>\n",
       "      <th></th>\n",
       "      <th></th>\n",
       "      <th></th>\n",
       "      <th></th>\n",
       "      <th></th>\n",
       "      <th></th>\n",
       "      <th></th>\n",
       "      <th></th>\n",
       "      <th></th>\n",
       "      <th></th>\n",
       "      <th></th>\n",
       "    </tr>\n",
       "  </thead>\n",
       "  <tbody>\n",
       "    <tr>\n",
       "      <th>1</th>\n",
       "      <td>2020-10-01 00:00:07.767</td>\n",
       "      <td>2020-10-01 00:04:14.060</td>\n",
       "      <td>2020-10-01 00:04:14.060</td>\n",
       "      <td>MSG3</td>\n",
       "      <td>GEO</td>\n",
       "      <td>SEVIRI</td>\n",
       "      <td>RSS</td>\n",
       "      <td>EPSG:4326</td>\n",
       "      <td>0 9.5</td>\n",
       "      <td>MSG3-SEVI-MSG15-0100-NA-20201001000414.0600000...</td>\n",
       "      <td>99819</td>\n",
       "      <td>0.0</td>\n",
       "      <td>2020-10-13 00:24:02.786606</td>\n",
       "    </tr>\n",
       "    <tr>\n",
       "      <th>2</th>\n",
       "      <td>2020-10-01 00:05:07.523</td>\n",
       "      <td>2020-10-01 00:09:13.818</td>\n",
       "      <td>2020-10-01 00:09:13.818</td>\n",
       "      <td>MSG3</td>\n",
       "      <td>GEO</td>\n",
       "      <td>SEVIRI</td>\n",
       "      <td>RSS</td>\n",
       "      <td>EPSG:4326</td>\n",
       "      <td>0 9.5</td>\n",
       "      <td>MSG3-SEVI-MSG15-0100-NA-20201001000913.8180000...</td>\n",
       "      <td>99819</td>\n",
       "      <td>0.0</td>\n",
       "      <td>2020-10-13 00:24:09.229091</td>\n",
       "    </tr>\n",
       "    <tr>\n",
       "      <th>3</th>\n",
       "      <td>2020-10-01 00:10:07.281</td>\n",
       "      <td>2020-10-01 00:14:13.576</td>\n",
       "      <td>2020-10-01 00:14:13.576</td>\n",
       "      <td>MSG3</td>\n",
       "      <td>GEO</td>\n",
       "      <td>SEVIRI</td>\n",
       "      <td>RSS</td>\n",
       "      <td>EPSG:4326</td>\n",
       "      <td>0 9.5</td>\n",
       "      <td>MSG3-SEVI-MSG15-0100-NA-20201001001413.5760000...</td>\n",
       "      <td>99819</td>\n",
       "      <td>0.0</td>\n",
       "      <td>2020-10-13 00:24:15.793064</td>\n",
       "    </tr>\n",
       "    <tr>\n",
       "      <th>4</th>\n",
       "      <td>2020-10-01 00:15:07.040</td>\n",
       "      <td>2020-10-01 00:19:13.336</td>\n",
       "      <td>2020-10-01 00:19:13.336</td>\n",
       "      <td>MSG3</td>\n",
       "      <td>GEO</td>\n",
       "      <td>SEVIRI</td>\n",
       "      <td>RSS</td>\n",
       "      <td>EPSG:4326</td>\n",
       "      <td>0 9.5</td>\n",
       "      <td>MSG3-SEVI-MSG15-0100-NA-20201001001913.3360000...</td>\n",
       "      <td>99819</td>\n",
       "      <td>0.0</td>\n",
       "      <td>2020-10-13 00:24:22.183809</td>\n",
       "    </tr>\n",
       "    <tr>\n",
       "      <th>5</th>\n",
       "      <td>2020-10-01 00:20:08.602</td>\n",
       "      <td>2020-10-01 00:24:14.899</td>\n",
       "      <td>2020-10-01 00:24:14.899</td>\n",
       "      <td>MSG3</td>\n",
       "      <td>GEO</td>\n",
       "      <td>SEVIRI</td>\n",
       "      <td>RSS</td>\n",
       "      <td>EPSG:4326</td>\n",
       "      <td>0 9.5</td>\n",
       "      <td>MSG3-SEVI-MSG15-0100-NA-20201001002414.8990000...</td>\n",
       "      <td>99819</td>\n",
       "      <td>0.0</td>\n",
       "      <td>2020-10-13 00:24:28.338515</td>\n",
       "    </tr>\n",
       "  </tbody>\n",
       "</table>\n",
       "</div>"
      ],
      "text/plain": [
       "                start_date                end_date             result_time  \\\n",
       "id                                                                           \n",
       "1  2020-10-01 00:00:07.767 2020-10-01 00:04:14.060 2020-10-01 00:04:14.060   \n",
       "2  2020-10-01 00:05:07.523 2020-10-01 00:09:13.818 2020-10-01 00:09:13.818   \n",
       "3  2020-10-01 00:10:07.281 2020-10-01 00:14:13.576 2020-10-01 00:14:13.576   \n",
       "4  2020-10-01 00:15:07.040 2020-10-01 00:19:13.336 2020-10-01 00:19:13.336   \n",
       "5  2020-10-01 00:20:08.602 2020-10-01 00:24:14.899 2020-10-01 00:24:14.899   \n",
       "\n",
       "   platform_short_name platform_orbit_type instrument_name sensor_op_mode  \\\n",
       "id                                                                          \n",
       "1                 MSG3                 GEO          SEVIRI            RSS   \n",
       "2                 MSG3                 GEO          SEVIRI            RSS   \n",
       "3                 MSG3                 GEO          SEVIRI            RSS   \n",
       "4                 MSG3                 GEO          SEVIRI            RSS   \n",
       "5                 MSG3                 GEO          SEVIRI            RSS   \n",
       "\n",
       "   center_srs_name center_position  \\\n",
       "id                                   \n",
       "1        EPSG:4326           0 9.5   \n",
       "2        EPSG:4326           0 9.5   \n",
       "3        EPSG:4326           0 9.5   \n",
       "4        EPSG:4326           0 9.5   \n",
       "5        EPSG:4326           0 9.5   \n",
       "\n",
       "                                            file_name  file_size  missing_pct  \\\n",
       "id                                                                              \n",
       "1   MSG3-SEVI-MSG15-0100-NA-20201001000414.0600000...      99819          0.0   \n",
       "2   MSG3-SEVI-MSG15-0100-NA-20201001000913.8180000...      99819          0.0   \n",
       "3   MSG3-SEVI-MSG15-0100-NA-20201001001413.5760000...      99819          0.0   \n",
       "4   MSG3-SEVI-MSG15-0100-NA-20201001001913.3360000...      99819          0.0   \n",
       "5   MSG3-SEVI-MSG15-0100-NA-20201001002414.8990000...      99819          0.0   \n",
       "\n",
       "                   downloaded  \n",
       "id                             \n",
       "1  2020-10-13 00:24:02.786606  \n",
       "2  2020-10-13 00:24:09.229091  \n",
       "3  2020-10-13 00:24:15.793064  \n",
       "4  2020-10-13 00:24:22.183809  \n",
       "5  2020-10-13 00:24:28.338515  "
      ]
     },
     "execution_count": 5,
     "metadata": {},
     "output_type": "execute_result"
    }
   ],
   "source": [
    "df_metadata = dm.get_df_metadata()\n",
    "\n",
    "df_metadata.head()"
   ]
  }
 ],
 "metadata": {
  "kernelspec": {
   "display_name": "sat_image_processing",
   "language": "python",
   "name": "sat_image_processing"
  },
  "language_info": {
   "codemirror_mode": {
    "name": "ipython",
    "version": 3
   },
   "file_extension": ".py",
   "mimetype": "text/x-python",
   "name": "python",
   "nbconvert_exporter": "python",
   "pygments_lexer": "ipython3",
   "version": "3.8.6"
  }
 },
 "nbformat": 4,
 "nbformat_minor": 4
}
