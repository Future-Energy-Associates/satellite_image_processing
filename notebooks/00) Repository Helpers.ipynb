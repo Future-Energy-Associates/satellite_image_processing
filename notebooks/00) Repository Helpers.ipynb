{
 "cells": [
  {
   "cell_type": "markdown",
   "metadata": {},
   "source": [
    "# Repository Helpers\n",
    "\n",
    "This notebook includes code for helping populate the README and together general tasks related to keeping the repository tidy\n",
    "\n",
    "<br>\n",
    "\n",
    "### Imports"
   ]
  },
  {
   "cell_type": "code",
   "execution_count": 20,
   "metadata": {},
   "outputs": [],
   "source": [
    "import pandas as pd\n",
    "\n",
    "from IPython.display import Markdown"
   ]
  },
  {
   "cell_type": "markdown",
   "metadata": {},
   "source": [
    "<br>\n",
    "\n",
    "### Notebook Information"
   ]
  },
  {
   "cell_type": "code",
   "execution_count": 19,
   "metadata": {},
   "outputs": [
    {
     "name": "stdout",
     "output_type": "stream",
     "text": [
      "| Notebook                 | Description                             | Maintainer   |\n",
      "|:-------------------------|:----------------------------------------|:-------------|\n",
      "| 00) Repository Helpers   | Code for keeping the repository tidy    | Ayrton Bourn |\n",
      "| 01) EUMETSAT API Wrapper | Development of API wrapper for EUMETSAT | Ayrton Bourn |\n"
     ]
    }
   ],
   "source": [
    "notebooks = {\n",
    "    '00) Repository Helpers': {\n",
    "        'Description': 'Code for keeping the repository tidy',\n",
    "        'Maintainer': 'Ayrton Bourn'\n",
    "    },\n",
    "    '01) EUMETSAT API Wrapper': {\n",
    "        'Description': 'Development of API wrapper for EUMETSAT',\n",
    "        'Maintainer': 'Ayrton Bourn'\n",
    "    }\n",
    "}\n",
    "\n",
    "df_nbs = pd.DataFrame(notebooks).T\n",
    "df_nbs.index.name = 'Notebook'\n",
    "\n",
    "print(df_nbs.to_markdown())"
   ]
  },
  {
   "cell_type": "code",
   "execution_count": null,
   "metadata": {},
   "outputs": [],
   "source": []
  }
 ],
 "metadata": {
  "kernelspec": {
   "display_name": "sat_image_processing",
   "language": "python",
   "name": "sat_image_processing"
  },
  "language_info": {
   "codemirror_mode": {
    "name": "ipython",
    "version": 3
   },
   "file_extension": ".py",
   "mimetype": "text/x-python",
   "name": "python",
   "nbconvert_exporter": "python",
   "pygments_lexer": "ipython3",
   "version": "3.8.6"
  }
 },
 "nbformat": 4,
 "nbformat_minor": 4
}
