{
 "cells": [
  {
   "cell_type": "markdown",
   "metadata": {},
   "source": [
    "# EUMETSAT API Wrapper\n",
    "\n",
    "<br>\n",
    "\n",
    "### Imports"
   ]
  },
  {
   "cell_type": "code",
   "execution_count": 102,
   "metadata": {},
   "outputs": [],
   "source": [
    "import pandas as pd\n",
    "\n",
    "import dotenv\n",
    "import zipfile\n",
    "import os\n",
    "import io\n",
    "\n",
    "from requests.auth import HTTPBasicAuth\n",
    "import requests\n",
    "\n",
    "from IPython.display import JSON"
   ]
  },
  {
   "cell_type": "markdown",
   "metadata": {},
   "source": [
    "<br>\n",
    "\n",
    "### User Input"
   ]
  },
  {
   "cell_type": "code",
   "execution_count": 106,
   "metadata": {},
   "outputs": [],
   "source": [
    "data_dir = '../data/raw'\n",
    "env_vars_fp = '../.env'"
   ]
  },
  {
   "cell_type": "markdown",
   "metadata": {},
   "source": [
    "<br>\n",
    "\n",
    "### Authorising API Access\n",
    "\n",
    "First we'll load the the environment variables and assign the user key and secret"
   ]
  },
  {
   "cell_type": "code",
   "execution_count": 103,
   "metadata": {},
   "outputs": [],
   "source": [
    "dotenv.load_dotenv(env_vars_fp)\n",
    "\n",
    "user_key = os.environ.get('user_key')\n",
    "user_secret = os.environ.get('user_secret')"
   ]
  },
  {
   "cell_type": "markdown",
   "metadata": {},
   "source": [
    "<br>\n",
    "\n",
    "We'll then use to request an access token for the data download API"
   ]
  },
  {
   "cell_type": "code",
   "execution_count": 104,
   "metadata": {},
   "outputs": [
    {
     "name": "stdout",
     "output_type": "stream",
     "text": [
      "Access token: 6235ec9f-c890-3784-8493-737d1950f211\n"
     ]
    }
   ],
   "source": [
    "def retrieve_access_token(user_key, user_secret):\n",
    "    token_url = 'https://api.eumetsat.int/token'\n",
    "\n",
    "    data = {\n",
    "      'grant_type': 'client_credentials'\n",
    "    }\n",
    "\n",
    "    r = requests.post(token_url, data=data, auth=(user_key, user_secret))\n",
    "    access_token = r.json()['access_token']\n",
    "\n",
    "    return access_token\n",
    "\n",
    "access_token = retrieve_access_token(user_key, user_secret)\n",
    "\n",
    "print(f'Access token: {access_token}')"
   ]
  },
  {
   "cell_type": "code",
   "execution_count": null,
   "metadata": {},
   "outputs": [],
   "source": []
  },
  {
   "cell_type": "code",
   "execution_count": null,
   "metadata": {},
   "outputs": [],
   "source": []
  },
  {
   "cell_type": "markdown",
   "metadata": {},
   "source": [
    "<br>\n",
    "\n",
    "### Querying Available Data"
   ]
  },
  {
   "cell_type": "code",
   "execution_count": 94,
   "metadata": {},
   "outputs": [
    {
     "data": {
      "application/json": {
       "features": [
        {
         "geometry": {},
         "id": "MSG3-SEVI-MSG15-0100-NA-20201012043915.018000000Z-NA",
         "properties": {
          "acquisitionInformation": [
           {
            "instrument": {
             "instrumentShortName": "SEVIRI"
            },
            "platform": {
             "platformShortName": "MSG3"
            }
           }
          ],
          "date": "2020-10-12T04:35:08.669Z/2020-10-12T04:39:15.018Z",
          "identifier": "MSG3-SEVI-MSG15-0100-NA-20201012043915.018000000Z-NA",
          "links": {
           "alternates": [
            {
             "href": "https://api.eumetsat.int/data/download/products/MSG3-SEVI-MSG15-0100-NA-20201012043915.018000000Z-NA/metadata",
             "mediaType": "application/xml",
             "title": "Metadata",
             "type": "Link"
            },
            {
             "href": "https://api.eumetsat.int/data/download/products/MSG3-SEVI-MSG15-0100-NA-20201012043915.018000000Z-NA/metadata?format=json",
             "mediaType": "application/json",
             "title": "Metadata in JSON format",
             "type": "Link"
            }
           ],
           "data": [
            {
             "href": "https://api.eumetsat.int/data/download/products/MSG3-SEVI-MSG15-0100-NA-20201012043915.018000000Z-NA",
             "mediaType": "application/zip",
             "title": "Product download",
             "type": "Link"
            }
           ],
           "previews": [
            {
             "href": "https://api.eumetsat.int/data/download/products/MSG3-SEVI-MSG15-0100-NA-20201012043915.018000000Z-NA/browse",
             "mediaType": "image/jpeg",
             "title": "Quicklook",
             "type": "Link"
            }
           ],
           "sip-entries": [
            {
             "href": "https://api.eumetsat.int/data/download/products/MSG3-SEVI-MSG15-0100-NA-20201012043915.018000000Z-NA/entry?name=EOPMetadata.xml",
             "mediaType": "application/xml",
             "title": "EOPMetadata.xml",
             "type": "Link"
            },
            {
             "href": "https://api.eumetsat.int/data/download/products/MSG3-SEVI-MSG15-0100-NA-20201012043915.018000000Z-NA/entry?name=MSG3-SEVI-MSG15-0100-NA-20201012043915.018000000Z-NA.nat",
             "mediaType": "application/octet-stream",
             "title": "MSG3-SEVI-MSG15-0100-NA-20201012043915.018000000Z-NA.nat",
             "type": "Link"
            },
            {
             "href": "https://api.eumetsat.int/data/download/products/MSG3-SEVI-MSG15-0100-NA-20201012043915.018000000Z-NA/entry?name=manifest.xml",
             "mediaType": "application/xml",
             "title": "manifest.xml",
             "type": "Link"
            }
           ],
           "type": "Links"
          },
          "parentIdentifier": "EO:EUM:DAT:MSG:MSG15-RSS",
          "productInformation": {
           "productType": "MSG15",
           "size": 42043,
           "timeliness": "NOMINAL"
          },
          "title": "MSG3-SEVI-MSG15-0100-NA-20201012043915.018000000Z-NA",
          "updated": "2020-10-12T04:35:08.669Z"
         },
         "type": "Feature"
        },
        {
         "geometry": {},
         "id": "MSG3-SEVI-MSG15-0100-NA-20201012043415.194000000Z-NA",
         "properties": {
          "acquisitionInformation": [
           {
            "instrument": {
             "instrumentShortName": "SEVIRI"
            },
            "platform": {
             "platformShortName": "MSG3"
            }
           }
          ],
          "date": "2020-10-12T04:30:08.845Z/2020-10-12T04:34:15.194Z",
          "identifier": "MSG3-SEVI-MSG15-0100-NA-20201012043415.194000000Z-NA",
          "links": {
           "alternates": [
            {
             "href": "https://api.eumetsat.int/data/download/products/MSG3-SEVI-MSG15-0100-NA-20201012043415.194000000Z-NA/metadata",
             "mediaType": "application/xml",
             "title": "Metadata",
             "type": "Link"
            },
            {
             "href": "https://api.eumetsat.int/data/download/products/MSG3-SEVI-MSG15-0100-NA-20201012043415.194000000Z-NA/metadata?format=json",
             "mediaType": "application/json",
             "title": "Metadata in JSON format",
             "type": "Link"
            }
           ],
           "data": [
            {
             "href": "https://api.eumetsat.int/data/download/products/MSG3-SEVI-MSG15-0100-NA-20201012043415.194000000Z-NA",
             "mediaType": "application/zip",
             "title": "Product download",
             "type": "Link"
            }
           ],
           "previews": [
            {
             "href": "https://api.eumetsat.int/data/download/products/MSG3-SEVI-MSG15-0100-NA-20201012043415.194000000Z-NA/browse",
             "mediaType": "image/jpeg",
             "title": "Quicklook",
             "type": "Link"
            }
           ],
           "sip-entries": [
            {
             "href": "https://api.eumetsat.int/data/download/products/MSG3-SEVI-MSG15-0100-NA-20201012043415.194000000Z-NA/entry?name=manifest.xml",
             "mediaType": "application/xml",
             "title": "manifest.xml",
             "type": "Link"
            },
            {
             "href": "https://api.eumetsat.int/data/download/products/MSG3-SEVI-MSG15-0100-NA-20201012043415.194000000Z-NA/entry?name=MSG3-SEVI-MSG15-0100-NA-20201012043415.194000000Z-NA.nat",
             "mediaType": "application/octet-stream",
             "title": "MSG3-SEVI-MSG15-0100-NA-20201012043415.194000000Z-NA.nat",
             "type": "Link"
            },
            {
             "href": "https://api.eumetsat.int/data/download/products/MSG3-SEVI-MSG15-0100-NA-20201012043415.194000000Z-NA/entry?name=EOPMetadata.xml",
             "mediaType": "application/xml",
             "title": "EOPMetadata.xml",
             "type": "Link"
            }
           ],
           "type": "Links"
          },
          "parentIdentifier": "EO:EUM:DAT:MSG:MSG15-RSS",
          "productInformation": {
           "productType": "MSG15",
           "size": 41719,
           "timeliness": "NOMINAL"
          },
          "title": "MSG3-SEVI-MSG15-0100-NA-20201012043415.194000000Z-NA",
          "updated": "2020-10-12T04:30:08.845Z"
         },
         "type": "Feature"
        },
        {
         "geometry": {},
         "id": "MSG3-SEVI-MSG15-0100-NA-20201012042915.370000000Z-NA",
         "properties": {
          "acquisitionInformation": [
           {
            "instrument": {
             "instrumentShortName": "SEVIRI"
            },
            "platform": {
             "platformShortName": "MSG3"
            }
           }
          ],
          "date": "2020-10-12T04:25:09.021Z/2020-10-12T04:29:15.37Z",
          "identifier": "MSG3-SEVI-MSG15-0100-NA-20201012042915.370000000Z-NA",
          "links": {
           "alternates": [
            {
             "href": "https://api.eumetsat.int/data/download/products/MSG3-SEVI-MSG15-0100-NA-20201012042915.370000000Z-NA/metadata",
             "mediaType": "application/xml",
             "title": "Metadata",
             "type": "Link"
            },
            {
             "href": "https://api.eumetsat.int/data/download/products/MSG3-SEVI-MSG15-0100-NA-20201012042915.370000000Z-NA/metadata?format=json",
             "mediaType": "application/json",
             "title": "Metadata in JSON format",
             "type": "Link"
            }
           ],
           "data": [
            {
             "href": "https://api.eumetsat.int/data/download/products/MSG3-SEVI-MSG15-0100-NA-20201012042915.370000000Z-NA",
             "mediaType": "application/zip",
             "title": "Product download",
             "type": "Link"
            }
           ],
           "previews": [
            {
             "href": "https://api.eumetsat.int/data/download/products/MSG3-SEVI-MSG15-0100-NA-20201012042915.370000000Z-NA/browse",
             "mediaType": "image/jpeg",
             "title": "Quicklook",
             "type": "Link"
            }
           ],
           "sip-entries": [
            {
             "href": "https://api.eumetsat.int/data/download/products/MSG3-SEVI-MSG15-0100-NA-20201012042915.370000000Z-NA/entry?name=EOPMetadata.xml",
             "mediaType": "application/xml",
             "title": "EOPMetadata.xml",
             "type": "Link"
            },
            {
             "href": "https://api.eumetsat.int/data/download/products/MSG3-SEVI-MSG15-0100-NA-20201012042915.370000000Z-NA/entry?name=manifest.xml",
             "mediaType": "application/xml",
             "title": "manifest.xml",
             "type": "Link"
            },
            {
             "href": "https://api.eumetsat.int/data/download/products/MSG3-SEVI-MSG15-0100-NA-20201012042915.370000000Z-NA/entry?name=MSG3-SEVI-MSG15-0100-NA-20201012042915.370000000Z-NA.nat",
             "mediaType": "application/octet-stream",
             "title": "MSG3-SEVI-MSG15-0100-NA-20201012042915.370000000Z-NA.nat",
             "type": "Link"
            }
           ],
           "type": "Links"
          },
          "parentIdentifier": "EO:EUM:DAT:MSG:MSG15-RSS",
          "productInformation": {
           "productType": "MSG15",
           "size": 41414,
           "timeliness": "NOMINAL"
          },
          "title": "MSG3-SEVI-MSG15-0100-NA-20201012042915.370000000Z-NA",
          "updated": "2020-10-12T04:25:09.021Z"
         },
         "type": "Feature"
        },
        {
         "geometry": {},
         "id": "MSG3-SEVI-MSG15-0100-NA-20201012042415.546000000Z-NA",
         "properties": {
          "acquisitionInformation": [
           {
            "instrument": {
             "instrumentShortName": "SEVIRI"
            },
            "platform": {
             "platformShortName": "MSG3"
            }
           }
          ],
          "date": "2020-10-12T04:20:09.198Z/2020-10-12T04:24:15.546Z",
          "identifier": "MSG3-SEVI-MSG15-0100-NA-20201012042415.546000000Z-NA",
          "links": {
           "alternates": [
            {
             "href": "https://api.eumetsat.int/data/download/products/MSG3-SEVI-MSG15-0100-NA-20201012042415.546000000Z-NA/metadata",
             "mediaType": "application/xml",
             "title": "Metadata",
             "type": "Link"
            },
            {
             "href": "https://api.eumetsat.int/data/download/products/MSG3-SEVI-MSG15-0100-NA-20201012042415.546000000Z-NA/metadata?format=json",
             "mediaType": "application/json",
             "title": "Metadata in JSON format",
             "type": "Link"
            }
           ],
           "data": [
            {
             "href": "https://api.eumetsat.int/data/download/products/MSG3-SEVI-MSG15-0100-NA-20201012042415.546000000Z-NA",
             "mediaType": "application/zip",
             "title": "Product download",
             "type": "Link"
            }
           ],
           "previews": [
            {
             "href": "https://api.eumetsat.int/data/download/products/MSG3-SEVI-MSG15-0100-NA-20201012042415.546000000Z-NA/browse",
             "mediaType": "image/jpeg",
             "title": "Quicklook",
             "type": "Link"
            }
           ],
           "sip-entries": [
            {
             "href": "https://api.eumetsat.int/data/download/products/MSG3-SEVI-MSG15-0100-NA-20201012042415.546000000Z-NA/entry?name=MSG3-SEVI-MSG15-0100-NA-20201012042415.546000000Z-NA.nat",
             "mediaType": "application/octet-stream",
             "title": "MSG3-SEVI-MSG15-0100-NA-20201012042415.546000000Z-NA.nat",
             "type": "Link"
            },
            {
             "href": "https://api.eumetsat.int/data/download/products/MSG3-SEVI-MSG15-0100-NA-20201012042415.546000000Z-NA/entry?name=manifest.xml",
             "mediaType": "application/xml",
             "title": "manifest.xml",
             "type": "Link"
            },
            {
             "href": "https://api.eumetsat.int/data/download/products/MSG3-SEVI-MSG15-0100-NA-20201012042415.546000000Z-NA/entry?name=EOPMetadata.xml",
             "mediaType": "application/xml",
             "title": "EOPMetadata.xml",
             "type": "Link"
            }
           ],
           "type": "Links"
          },
          "parentIdentifier": "EO:EUM:DAT:MSG:MSG15-RSS",
          "productInformation": {
           "productType": "MSG15",
           "size": 41154,
           "timeliness": "NOMINAL"
          },
          "title": "MSG3-SEVI-MSG15-0100-NA-20201012042415.546000000Z-NA",
          "updated": "2020-10-12T04:20:09.198Z"
         },
         "type": "Feature"
        },
        {
         "geometry": {},
         "id": "MSG3-SEVI-MSG15-0100-NA-20201012041915.723000000Z-NA",
         "properties": {
          "acquisitionInformation": [
           {
            "instrument": {
             "instrumentShortName": "SEVIRI"
            },
            "platform": {
             "platformShortName": "MSG3"
            }
           }
          ],
          "date": "2020-10-12T04:15:09.375Z/2020-10-12T04:19:15.723Z",
          "identifier": "MSG3-SEVI-MSG15-0100-NA-20201012041915.723000000Z-NA",
          "links": {
           "alternates": [
            {
             "href": "https://api.eumetsat.int/data/download/products/MSG3-SEVI-MSG15-0100-NA-20201012041915.723000000Z-NA/metadata",
             "mediaType": "application/xml",
             "title": "Metadata",
             "type": "Link"
            },
            {
             "href": "https://api.eumetsat.int/data/download/products/MSG3-SEVI-MSG15-0100-NA-20201012041915.723000000Z-NA/metadata?format=json",
             "mediaType": "application/json",
             "title": "Metadata in JSON format",
             "type": "Link"
            }
           ],
           "data": [
            {
             "href": "https://api.eumetsat.int/data/download/products/MSG3-SEVI-MSG15-0100-NA-20201012041915.723000000Z-NA",
             "mediaType": "application/zip",
             "title": "Product download",
             "type": "Link"
            }
           ],
           "previews": [
            {
             "href": "https://api.eumetsat.int/data/download/products/MSG3-SEVI-MSG15-0100-NA-20201012041915.723000000Z-NA/browse",
             "mediaType": "image/jpeg",
             "title": "Quicklook",
             "type": "Link"
            }
           ],
           "sip-entries": [
            {
             "href": "https://api.eumetsat.int/data/download/products/MSG3-SEVI-MSG15-0100-NA-20201012041915.723000000Z-NA/entry?name=manifest.xml",
             "mediaType": "application/xml",
             "title": "manifest.xml",
             "type": "Link"
            },
            {
             "href": "https://api.eumetsat.int/data/download/products/MSG3-SEVI-MSG15-0100-NA-20201012041915.723000000Z-NA/entry?name=EOPMetadata.xml",
             "mediaType": "application/xml",
             "title": "EOPMetadata.xml",
             "type": "Link"
            },
            {
             "href": "https://api.eumetsat.int/data/download/products/MSG3-SEVI-MSG15-0100-NA-20201012041915.723000000Z-NA/entry?name=MSG3-SEVI-MSG15-0100-NA-20201012041915.723000000Z-NA.nat",
             "mediaType": "application/octet-stream",
             "title": "MSG3-SEVI-MSG15-0100-NA-20201012041915.723000000Z-NA.nat",
             "type": "Link"
            }
           ],
           "type": "Links"
          },
          "parentIdentifier": "EO:EUM:DAT:MSG:MSG15-RSS",
          "productInformation": {
           "productType": "MSG15",
           "size": 40906,
           "timeliness": "NOMINAL"
          },
          "title": "MSG3-SEVI-MSG15-0100-NA-20201012041915.723000000Z-NA",
          "updated": "2020-10-12T04:15:09.375Z"
         },
         "type": "Feature"
        },
        {
         "geometry": {},
         "id": "MSG3-SEVI-MSG15-0100-NA-20201012041415.899000000Z-NA",
         "properties": {
          "acquisitionInformation": [
           {
            "instrument": {
             "instrumentShortName": "SEVIRI"
            },
            "platform": {
             "platformShortName": "MSG3"
            }
           }
          ],
          "date": "2020-10-12T04:10:09.551Z/2020-10-12T04:14:15.899Z",
          "identifier": "MSG3-SEVI-MSG15-0100-NA-20201012041415.899000000Z-NA",
          "links": {
           "alternates": [
            {
             "href": "https://api.eumetsat.int/data/download/products/MSG3-SEVI-MSG15-0100-NA-20201012041415.899000000Z-NA/metadata",
             "mediaType": "application/xml",
             "title": "Metadata",
             "type": "Link"
            },
            {
             "href": "https://api.eumetsat.int/data/download/products/MSG3-SEVI-MSG15-0100-NA-20201012041415.899000000Z-NA/metadata?format=json",
             "mediaType": "application/json",
             "title": "Metadata in JSON format",
             "type": "Link"
            }
           ],
           "data": [
            {
             "href": "https://api.eumetsat.int/data/download/products/MSG3-SEVI-MSG15-0100-NA-20201012041415.899000000Z-NA",
             "mediaType": "application/zip",
             "title": "Product download",
             "type": "Link"
            }
           ],
           "previews": [
            {
             "href": "https://api.eumetsat.int/data/download/products/MSG3-SEVI-MSG15-0100-NA-20201012041415.899000000Z-NA/browse",
             "mediaType": "image/jpeg",
             "title": "Quicklook",
             "type": "Link"
            }
           ],
           "sip-entries": [
            {
             "href": "https://api.eumetsat.int/data/download/products/MSG3-SEVI-MSG15-0100-NA-20201012041415.899000000Z-NA/entry?name=EOPMetadata.xml",
             "mediaType": "application/xml",
             "title": "EOPMetadata.xml",
             "type": "Link"
            },
            {
             "href": "https://api.eumetsat.int/data/download/products/MSG3-SEVI-MSG15-0100-NA-20201012041415.899000000Z-NA/entry?name=manifest.xml",
             "mediaType": "application/xml",
             "title": "manifest.xml",
             "type": "Link"
            },
            {
             "href": "https://api.eumetsat.int/data/download/products/MSG3-SEVI-MSG15-0100-NA-20201012041415.899000000Z-NA/entry?name=MSG3-SEVI-MSG15-0100-NA-20201012041415.899000000Z-NA.nat",
             "mediaType": "application/octet-stream",
             "title": "MSG3-SEVI-MSG15-0100-NA-20201012041415.899000000Z-NA.nat",
             "type": "Link"
            }
           ],
           "type": "Links"
          },
          "parentIdentifier": "EO:EUM:DAT:MSG:MSG15-RSS",
          "productInformation": {
           "productType": "MSG15",
           "size": 40617,
           "timeliness": "NOMINAL"
          },
          "title": "MSG3-SEVI-MSG15-0100-NA-20201012041415.899000000Z-NA",
          "updated": "2020-10-12T04:10:09.551Z"
         },
         "type": "Feature"
        },
        {
         "geometry": {},
         "id": "MSG3-SEVI-MSG15-0100-NA-20201012040916.076000000Z-NA",
         "properties": {
          "acquisitionInformation": [
           {
            "instrument": {
             "instrumentShortName": "SEVIRI"
            },
            "platform": {
             "platformShortName": "MSG3"
            }
           }
          ],
          "date": "2020-10-12T04:05:09.727Z/2020-10-12T04:09:16.076Z",
          "identifier": "MSG3-SEVI-MSG15-0100-NA-20201012040916.076000000Z-NA",
          "links": {
           "alternates": [
            {
             "href": "https://api.eumetsat.int/data/download/products/MSG3-SEVI-MSG15-0100-NA-20201012040916.076000000Z-NA/metadata",
             "mediaType": "application/xml",
             "title": "Metadata",
             "type": "Link"
            },
            {
             "href": "https://api.eumetsat.int/data/download/products/MSG3-SEVI-MSG15-0100-NA-20201012040916.076000000Z-NA/metadata?format=json",
             "mediaType": "application/json",
             "title": "Metadata in JSON format",
             "type": "Link"
            }
           ],
           "data": [
            {
             "href": "https://api.eumetsat.int/data/download/products/MSG3-SEVI-MSG15-0100-NA-20201012040916.076000000Z-NA",
             "mediaType": "application/zip",
             "title": "Product download",
             "type": "Link"
            }
           ],
           "previews": [
            {
             "href": "https://api.eumetsat.int/data/download/products/MSG3-SEVI-MSG15-0100-NA-20201012040916.076000000Z-NA/browse",
             "mediaType": "image/jpeg",
             "title": "Quicklook",
             "type": "Link"
            }
           ],
           "sip-entries": [
            {
             "href": "https://api.eumetsat.int/data/download/products/MSG3-SEVI-MSG15-0100-NA-20201012040916.076000000Z-NA/entry?name=MSG3-SEVI-MSG15-0100-NA-20201012040916.076000000Z-NA.nat",
             "mediaType": "application/octet-stream",
             "title": "MSG3-SEVI-MSG15-0100-NA-20201012040916.076000000Z-NA.nat",
             "type": "Link"
            },
            {
             "href": "https://api.eumetsat.int/data/download/products/MSG3-SEVI-MSG15-0100-NA-20201012040916.076000000Z-NA/entry?name=manifest.xml",
             "mediaType": "application/xml",
             "title": "manifest.xml",
             "type": "Link"
            },
            {
             "href": "https://api.eumetsat.int/data/download/products/MSG3-SEVI-MSG15-0100-NA-20201012040916.076000000Z-NA/entry?name=EOPMetadata.xml",
             "mediaType": "application/xml",
             "title": "EOPMetadata.xml",
             "type": "Link"
            }
           ],
           "type": "Links"
          },
          "parentIdentifier": "EO:EUM:DAT:MSG:MSG15-RSS",
          "productInformation": {
           "productType": "MSG15",
           "size": 40339,
           "timeliness": "NOMINAL"
          },
          "title": "MSG3-SEVI-MSG15-0100-NA-20201012040916.076000000Z-NA",
          "updated": "2020-10-12T04:05:09.727Z"
         },
         "type": "Feature"
        },
        {
         "geometry": {},
         "id": "MSG3-SEVI-MSG15-0100-NA-20201012040416.252000000Z-NA",
         "properties": {
          "acquisitionInformation": [
           {
            "instrument": {
             "instrumentShortName": "SEVIRI"
            },
            "platform": {
             "platformShortName": "MSG3"
            }
           }
          ],
          "date": "2020-10-12T04:00:09.904Z/2020-10-12T04:04:16.252Z",
          "identifier": "MSG3-SEVI-MSG15-0100-NA-20201012040416.252000000Z-NA",
          "links": {
           "alternates": [
            {
             "href": "https://api.eumetsat.int/data/download/products/MSG3-SEVI-MSG15-0100-NA-20201012040416.252000000Z-NA/metadata",
             "mediaType": "application/xml",
             "title": "Metadata",
             "type": "Link"
            },
            {
             "href": "https://api.eumetsat.int/data/download/products/MSG3-SEVI-MSG15-0100-NA-20201012040416.252000000Z-NA/metadata?format=json",
             "mediaType": "application/json",
             "title": "Metadata in JSON format",
             "type": "Link"
            }
           ],
           "data": [
            {
             "href": "https://api.eumetsat.int/data/download/products/MSG3-SEVI-MSG15-0100-NA-20201012040416.252000000Z-NA",
             "mediaType": "application/zip",
             "title": "Product download",
             "type": "Link"
            }
           ],
           "previews": [
            {
             "href": "https://api.eumetsat.int/data/download/products/MSG3-SEVI-MSG15-0100-NA-20201012040416.252000000Z-NA/browse",
             "mediaType": "image/jpeg",
             "title": "Quicklook",
             "type": "Link"
            }
           ],
           "sip-entries": [
            {
             "href": "https://api.eumetsat.int/data/download/products/MSG3-SEVI-MSG15-0100-NA-20201012040416.252000000Z-NA/entry?name=manifest.xml",
             "mediaType": "application/xml",
             "title": "manifest.xml",
             "type": "Link"
            },
            {
             "href": "https://api.eumetsat.int/data/download/products/MSG3-SEVI-MSG15-0100-NA-20201012040416.252000000Z-NA/entry?name=EOPMetadata.xml",
             "mediaType": "application/xml",
             "title": "EOPMetadata.xml",
             "type": "Link"
            },
            {
             "href": "https://api.eumetsat.int/data/download/products/MSG3-SEVI-MSG15-0100-NA-20201012040416.252000000Z-NA/entry?name=MSG3-SEVI-MSG15-0100-NA-20201012040416.252000000Z-NA.nat",
             "mediaType": "application/octet-stream",
             "title": "MSG3-SEVI-MSG15-0100-NA-20201012040416.252000000Z-NA.nat",
             "type": "Link"
            }
           ],
           "type": "Links"
          },
          "parentIdentifier": "EO:EUM:DAT:MSG:MSG15-RSS",
          "productInformation": {
           "productType": "MSG15",
           "size": 40071,
           "timeliness": "NOMINAL"
          },
          "title": "MSG3-SEVI-MSG15-0100-NA-20201012040416.252000000Z-NA",
          "updated": "2020-10-12T04:00:09.904Z"
         },
         "type": "Feature"
        },
        {
         "geometry": {},
         "id": "MSG3-SEVI-MSG15-0100-NA-20201012035916.429000000Z-NA",
         "properties": {
          "acquisitionInformation": [
           {
            "instrument": {
             "instrumentShortName": "SEVIRI"
            },
            "platform": {
             "platformShortName": "MSG3"
            }
           }
          ],
          "date": "2020-10-12T03:55:10.081Z/2020-10-12T03:59:16.429Z",
          "identifier": "MSG3-SEVI-MSG15-0100-NA-20201012035916.429000000Z-NA",
          "links": {
           "alternates": [
            {
             "href": "https://api.eumetsat.int/data/download/products/MSG3-SEVI-MSG15-0100-NA-20201012035916.429000000Z-NA/metadata",
             "mediaType": "application/xml",
             "title": "Metadata",
             "type": "Link"
            },
            {
             "href": "https://api.eumetsat.int/data/download/products/MSG3-SEVI-MSG15-0100-NA-20201012035916.429000000Z-NA/metadata?format=json",
             "mediaType": "application/json",
             "title": "Metadata in JSON format",
             "type": "Link"
            }
           ],
           "data": [
            {
             "href": "https://api.eumetsat.int/data/download/products/MSG3-SEVI-MSG15-0100-NA-20201012035916.429000000Z-NA",
             "mediaType": "application/zip",
             "title": "Product download",
             "type": "Link"
            }
           ],
           "previews": [
            {
             "href": "https://api.eumetsat.int/data/download/products/MSG3-SEVI-MSG15-0100-NA-20201012035916.429000000Z-NA/browse",
             "mediaType": "image/jpeg",
             "title": "Quicklook",
             "type": "Link"
            }
           ],
           "sip-entries": [
            {
             "href": "https://api.eumetsat.int/data/download/products/MSG3-SEVI-MSG15-0100-NA-20201012035916.429000000Z-NA/entry?name=EOPMetadata.xml",
             "mediaType": "application/xml",
             "title": "EOPMetadata.xml",
             "type": "Link"
            },
            {
             "href": "https://api.eumetsat.int/data/download/products/MSG3-SEVI-MSG15-0100-NA-20201012035916.429000000Z-NA/entry?name=manifest.xml",
             "mediaType": "application/xml",
             "title": "manifest.xml",
             "type": "Link"
            },
            {
             "href": "https://api.eumetsat.int/data/download/products/MSG3-SEVI-MSG15-0100-NA-20201012035916.429000000Z-NA/entry?name=MSG3-SEVI-MSG15-0100-NA-20201012035916.429000000Z-NA.nat",
             "mediaType": "application/octet-stream",
             "title": "MSG3-SEVI-MSG15-0100-NA-20201012035916.429000000Z-NA.nat",
             "type": "Link"
            }
           ],
           "type": "Links"
          },
          "parentIdentifier": "EO:EUM:DAT:MSG:MSG15-RSS",
          "productInformation": {
           "productType": "MSG15",
           "size": 39753,
           "timeliness": "NOMINAL"
          },
          "title": "MSG3-SEVI-MSG15-0100-NA-20201012035916.429000000Z-NA",
          "updated": "2020-10-12T03:55:10.081Z"
         },
         "type": "Feature"
        },
        {
         "geometry": {},
         "id": "MSG3-SEVI-MSG15-0100-NA-20201012035416.606000000Z-NA",
         "properties": {
          "acquisitionInformation": [
           {
            "instrument": {
             "instrumentShortName": "SEVIRI"
            },
            "platform": {
             "platformShortName": "MSG3"
            }
           }
          ],
          "date": "2020-10-12T03:50:10.258Z/2020-10-12T03:54:16.606Z",
          "identifier": "MSG3-SEVI-MSG15-0100-NA-20201012035416.606000000Z-NA",
          "links": {
           "alternates": [
            {
             "href": "https://api.eumetsat.int/data/download/products/MSG3-SEVI-MSG15-0100-NA-20201012035416.606000000Z-NA/metadata",
             "mediaType": "application/xml",
             "title": "Metadata",
             "type": "Link"
            },
            {
             "href": "https://api.eumetsat.int/data/download/products/MSG3-SEVI-MSG15-0100-NA-20201012035416.606000000Z-NA/metadata?format=json",
             "mediaType": "application/json",
             "title": "Metadata in JSON format",
             "type": "Link"
            }
           ],
           "data": [
            {
             "href": "https://api.eumetsat.int/data/download/products/MSG3-SEVI-MSG15-0100-NA-20201012035416.606000000Z-NA",
             "mediaType": "application/zip",
             "title": "Product download",
             "type": "Link"
            }
           ],
           "previews": [
            {
             "href": "https://api.eumetsat.int/data/download/products/MSG3-SEVI-MSG15-0100-NA-20201012035416.606000000Z-NA/browse",
             "mediaType": "image/jpeg",
             "title": "Quicklook",
             "type": "Link"
            }
           ],
           "sip-entries": [
            {
             "href": "https://api.eumetsat.int/data/download/products/MSG3-SEVI-MSG15-0100-NA-20201012035416.606000000Z-NA/entry?name=EOPMetadata.xml",
             "mediaType": "application/xml",
             "title": "EOPMetadata.xml",
             "type": "Link"
            },
            {
             "href": "https://api.eumetsat.int/data/download/products/MSG3-SEVI-MSG15-0100-NA-20201012035416.606000000Z-NA/entry?name=manifest.xml",
             "mediaType": "application/xml",
             "title": "manifest.xml",
             "type": "Link"
            },
            {
             "href": "https://api.eumetsat.int/data/download/products/MSG3-SEVI-MSG15-0100-NA-20201012035416.606000000Z-NA/entry?name=MSG3-SEVI-MSG15-0100-NA-20201012035416.606000000Z-NA.nat",
             "mediaType": "application/octet-stream",
             "title": "MSG3-SEVI-MSG15-0100-NA-20201012035416.606000000Z-NA.nat",
             "type": "Link"
            }
           ],
           "type": "Links"
          },
          "parentIdentifier": "EO:EUM:DAT:MSG:MSG15-RSS",
          "productInformation": {
           "productType": "MSG15",
           "size": 39497,
           "timeliness": "NOMINAL"
          },
          "title": "MSG3-SEVI-MSG15-0100-NA-20201012035416.606000000Z-NA",
          "updated": "2020-10-12T03:50:10.258Z"
         },
         "type": "Feature"
        },
        {
         "geometry": {},
         "id": "MSG3-SEVI-MSG15-0100-NA-20201012034917.985000000Z-NA",
         "properties": {
          "acquisitionInformation": [
           {
            "instrument": {
             "instrumentShortName": "SEVIRI"
            },
            "platform": {
             "platformShortName": "MSG3"
            }
           }
          ],
          "date": "2020-10-12T03:45:11.637Z/2020-10-12T03:49:17.985Z",
          "identifier": "MSG3-SEVI-MSG15-0100-NA-20201012034917.985000000Z-NA",
          "links": {
           "alternates": [
            {
             "href": "https://api.eumetsat.int/data/download/products/MSG3-SEVI-MSG15-0100-NA-20201012034917.985000000Z-NA/metadata",
             "mediaType": "application/xml",
             "title": "Metadata",
             "type": "Link"
            },
            {
             "href": "https://api.eumetsat.int/data/download/products/MSG3-SEVI-MSG15-0100-NA-20201012034917.985000000Z-NA/metadata?format=json",
             "mediaType": "application/json",
             "title": "Metadata in JSON format",
             "type": "Link"
            }
           ],
           "data": [
            {
             "href": "https://api.eumetsat.int/data/download/products/MSG3-SEVI-MSG15-0100-NA-20201012034917.985000000Z-NA",
             "mediaType": "application/zip",
             "title": "Product download",
             "type": "Link"
            }
           ],
           "previews": [
            {
             "href": "https://api.eumetsat.int/data/download/products/MSG3-SEVI-MSG15-0100-NA-20201012034917.985000000Z-NA/browse",
             "mediaType": "image/jpeg",
             "title": "Quicklook",
             "type": "Link"
            }
           ],
           "sip-entries": [
            {
             "href": "https://api.eumetsat.int/data/download/products/MSG3-SEVI-MSG15-0100-NA-20201012034917.985000000Z-NA/entry?name=manifest.xml",
             "mediaType": "application/xml",
             "title": "manifest.xml",
             "type": "Link"
            },
            {
             "href": "https://api.eumetsat.int/data/download/products/MSG3-SEVI-MSG15-0100-NA-20201012034917.985000000Z-NA/entry?name=EOPMetadata.xml",
             "mediaType": "application/xml",
             "title": "EOPMetadata.xml",
             "type": "Link"
            },
            {
             "href": "https://api.eumetsat.int/data/download/products/MSG3-SEVI-MSG15-0100-NA-20201012034917.985000000Z-NA/entry?name=MSG3-SEVI-MSG15-0100-NA-20201012034917.985000000Z-NA.nat",
             "mediaType": "application/octet-stream",
             "title": "MSG3-SEVI-MSG15-0100-NA-20201012034917.985000000Z-NA.nat",
             "type": "Link"
            }
           ],
           "type": "Links"
          },
          "parentIdentifier": "EO:EUM:DAT:MSG:MSG15-RSS",
          "productInformation": {
           "productType": "MSG15",
           "size": 39268,
           "timeliness": "NOMINAL"
          },
          "title": "MSG3-SEVI-MSG15-0100-NA-20201012034917.985000000Z-NA",
          "updated": "2020-10-12T03:45:11.637Z"
         },
         "type": "Feature"
        },
        {
         "geometry": {},
         "id": "MSG3-SEVI-MSG15-0100-NA-20201012034418.162000000Z-NA",
         "properties": {
          "acquisitionInformation": [
           {
            "instrument": {
             "instrumentShortName": "SEVIRI"
            },
            "platform": {
             "platformShortName": "MSG3"
            }
           }
          ],
          "date": "2020-10-12T03:40:11.816Z/2020-10-12T03:44:18.162Z",
          "identifier": "MSG3-SEVI-MSG15-0100-NA-20201012034418.162000000Z-NA",
          "links": {
           "alternates": [
            {
             "href": "https://api.eumetsat.int/data/download/products/MSG3-SEVI-MSG15-0100-NA-20201012034418.162000000Z-NA/metadata",
             "mediaType": "application/xml",
             "title": "Metadata",
             "type": "Link"
            },
            {
             "href": "https://api.eumetsat.int/data/download/products/MSG3-SEVI-MSG15-0100-NA-20201012034418.162000000Z-NA/metadata?format=json",
             "mediaType": "application/json",
             "title": "Metadata in JSON format",
             "type": "Link"
            }
           ],
           "data": [
            {
             "href": "https://api.eumetsat.int/data/download/products/MSG3-SEVI-MSG15-0100-NA-20201012034418.162000000Z-NA",
             "mediaType": "application/zip",
             "title": "Product download",
             "type": "Link"
            }
           ],
           "previews": [
            {
             "href": "https://api.eumetsat.int/data/download/products/MSG3-SEVI-MSG15-0100-NA-20201012034418.162000000Z-NA/browse",
             "mediaType": "image/jpeg",
             "title": "Quicklook",
             "type": "Link"
            }
           ],
           "sip-entries": [
            {
             "href": "https://api.eumetsat.int/data/download/products/MSG3-SEVI-MSG15-0100-NA-20201012034418.162000000Z-NA/entry?name=EOPMetadata.xml",
             "mediaType": "application/xml",
             "title": "EOPMetadata.xml",
             "type": "Link"
            },
            {
             "href": "https://api.eumetsat.int/data/download/products/MSG3-SEVI-MSG15-0100-NA-20201012034418.162000000Z-NA/entry?name=manifest.xml",
             "mediaType": "application/xml",
             "title": "manifest.xml",
             "type": "Link"
            },
            {
             "href": "https://api.eumetsat.int/data/download/products/MSG3-SEVI-MSG15-0100-NA-20201012034418.162000000Z-NA/entry?name=MSG3-SEVI-MSG15-0100-NA-20201012034418.162000000Z-NA.nat",
             "mediaType": "application/octet-stream",
             "title": "MSG3-SEVI-MSG15-0100-NA-20201012034418.162000000Z-NA.nat",
             "type": "Link"
            }
           ],
           "type": "Links"
          },
          "parentIdentifier": "EO:EUM:DAT:MSG:MSG15-RSS",
          "productInformation": {
           "productType": "MSG15",
           "size": 39054,
           "timeliness": "NOMINAL"
          },
          "title": "MSG3-SEVI-MSG15-0100-NA-20201012034418.162000000Z-NA",
          "updated": "2020-10-12T03:40:11.816Z"
         },
         "type": "Feature"
        },
        {
         "geometry": {},
         "id": "MSG3-SEVI-MSG15-0100-NA-20201012033918.341000000Z-NA",
         "properties": {
          "acquisitionInformation": [
           {
            "instrument": {
             "instrumentShortName": "SEVIRI"
            },
            "platform": {
             "platformShortName": "MSG3"
            }
           }
          ],
          "date": "2020-10-12T03:35:11.994Z/2020-10-12T03:39:18.341Z",
          "identifier": "MSG3-SEVI-MSG15-0100-NA-20201012033918.341000000Z-NA",
          "links": {
           "alternates": [
            {
             "href": "https://api.eumetsat.int/data/download/products/MSG3-SEVI-MSG15-0100-NA-20201012033918.341000000Z-NA/metadata",
             "mediaType": "application/xml",
             "title": "Metadata",
             "type": "Link"
            },
            {
             "href": "https://api.eumetsat.int/data/download/products/MSG3-SEVI-MSG15-0100-NA-20201012033918.341000000Z-NA/metadata?format=json",
             "mediaType": "application/json",
             "title": "Metadata in JSON format",
             "type": "Link"
            }
           ],
           "data": [
            {
             "href": "https://api.eumetsat.int/data/download/products/MSG3-SEVI-MSG15-0100-NA-20201012033918.341000000Z-NA",
             "mediaType": "application/zip",
             "title": "Product download",
             "type": "Link"
            }
           ],
           "previews": [
            {
             "href": "https://api.eumetsat.int/data/download/products/MSG3-SEVI-MSG15-0100-NA-20201012033918.341000000Z-NA/browse",
             "mediaType": "image/jpeg",
             "title": "Quicklook",
             "type": "Link"
            }
           ],
           "sip-entries": [
            {
             "href": "https://api.eumetsat.int/data/download/products/MSG3-SEVI-MSG15-0100-NA-20201012033918.341000000Z-NA/entry?name=EOPMetadata.xml",
             "mediaType": "application/xml",
             "title": "EOPMetadata.xml",
             "type": "Link"
            },
            {
             "href": "https://api.eumetsat.int/data/download/products/MSG3-SEVI-MSG15-0100-NA-20201012033918.341000000Z-NA/entry?name=manifest.xml",
             "mediaType": "application/xml",
             "title": "manifest.xml",
             "type": "Link"
            },
            {
             "href": "https://api.eumetsat.int/data/download/products/MSG3-SEVI-MSG15-0100-NA-20201012033918.341000000Z-NA/entry?name=MSG3-SEVI-MSG15-0100-NA-20201012033918.341000000Z-NA.nat",
             "mediaType": "application/octet-stream",
             "title": "MSG3-SEVI-MSG15-0100-NA-20201012033918.341000000Z-NA.nat",
             "type": "Link"
            }
           ],
           "type": "Links"
          },
          "parentIdentifier": "EO:EUM:DAT:MSG:MSG15-RSS",
          "productInformation": {
           "productType": "MSG15",
           "size": 38845,
           "timeliness": "NOMINAL"
          },
          "title": "MSG3-SEVI-MSG15-0100-NA-20201012033918.341000000Z-NA",
          "updated": "2020-10-12T03:35:11.994Z"
         },
         "type": "Feature"
        },
        {
         "geometry": {},
         "id": "MSG3-SEVI-MSG15-0100-NA-20201012033418.520000000Z-NA",
         "properties": {
          "acquisitionInformation": [
           {
            "instrument": {
             "instrumentShortName": "SEVIRI"
            },
            "platform": {
             "platformShortName": "MSG3"
            }
           }
          ],
          "date": "2020-10-12T03:30:12.174Z/2020-10-12T03:34:18.52Z",
          "identifier": "MSG3-SEVI-MSG15-0100-NA-20201012033418.520000000Z-NA",
          "links": {
           "alternates": [
            {
             "href": "https://api.eumetsat.int/data/download/products/MSG3-SEVI-MSG15-0100-NA-20201012033418.520000000Z-NA/metadata",
             "mediaType": "application/xml",
             "title": "Metadata",
             "type": "Link"
            },
            {
             "href": "https://api.eumetsat.int/data/download/products/MSG3-SEVI-MSG15-0100-NA-20201012033418.520000000Z-NA/metadata?format=json",
             "mediaType": "application/json",
             "title": "Metadata in JSON format",
             "type": "Link"
            }
           ],
           "data": [
            {
             "href": "https://api.eumetsat.int/data/download/products/MSG3-SEVI-MSG15-0100-NA-20201012033418.520000000Z-NA",
             "mediaType": "application/zip",
             "title": "Product download",
             "type": "Link"
            }
           ],
           "previews": [
            {
             "href": "https://api.eumetsat.int/data/download/products/MSG3-SEVI-MSG15-0100-NA-20201012033418.520000000Z-NA/browse",
             "mediaType": "image/jpeg",
             "title": "Quicklook",
             "type": "Link"
            }
           ],
           "sip-entries": [
            {
             "href": "https://api.eumetsat.int/data/download/products/MSG3-SEVI-MSG15-0100-NA-20201012033418.520000000Z-NA/entry?name=manifest.xml",
             "mediaType": "application/xml",
             "title": "manifest.xml",
             "type": "Link"
            },
            {
             "href": "https://api.eumetsat.int/data/download/products/MSG3-SEVI-MSG15-0100-NA-20201012033418.520000000Z-NA/entry?name=MSG3-SEVI-MSG15-0100-NA-20201012033418.520000000Z-NA.nat",
             "mediaType": "application/octet-stream",
             "title": "MSG3-SEVI-MSG15-0100-NA-20201012033418.520000000Z-NA.nat",
             "type": "Link"
            },
            {
             "href": "https://api.eumetsat.int/data/download/products/MSG3-SEVI-MSG15-0100-NA-20201012033418.520000000Z-NA/entry?name=EOPMetadata.xml",
             "mediaType": "application/xml",
             "title": "EOPMetadata.xml",
             "type": "Link"
            }
           ],
           "type": "Links"
          },
          "parentIdentifier": "EO:EUM:DAT:MSG:MSG15-RSS",
          "productInformation": {
           "productType": "MSG15",
           "size": 38693,
           "timeliness": "NOMINAL"
          },
          "title": "MSG3-SEVI-MSG15-0100-NA-20201012033418.520000000Z-NA",
          "updated": "2020-10-12T03:30:12.174Z"
         },
         "type": "Feature"
        },
        {
         "geometry": {},
         "id": "MSG3-SEVI-MSG15-0100-NA-20201012032917.497000000Z-NA",
         "properties": {
          "acquisitionInformation": [
           {
            "instrument": {
             "instrumentShortName": "SEVIRI"
            },
            "platform": {
             "platformShortName": "MSG3"
            }
           }
          ],
          "date": "2020-10-12T03:25:11.151Z/2020-10-12T03:29:17.497Z",
          "identifier": "MSG3-SEVI-MSG15-0100-NA-20201012032917.497000000Z-NA",
          "links": {
           "alternates": [
            {
             "href": "https://api.eumetsat.int/data/download/products/MSG3-SEVI-MSG15-0100-NA-20201012032917.497000000Z-NA/metadata",
             "mediaType": "application/xml",
             "title": "Metadata",
             "type": "Link"
            },
            {
             "href": "https://api.eumetsat.int/data/download/products/MSG3-SEVI-MSG15-0100-NA-20201012032917.497000000Z-NA/metadata?format=json",
             "mediaType": "application/json",
             "title": "Metadata in JSON format",
             "type": "Link"
            }
           ],
           "data": [
            {
             "href": "https://api.eumetsat.int/data/download/products/MSG3-SEVI-MSG15-0100-NA-20201012032917.497000000Z-NA",
             "mediaType": "application/zip",
             "title": "Product download",
             "type": "Link"
            }
           ],
           "previews": [
            {
             "href": "https://api.eumetsat.int/data/download/products/MSG3-SEVI-MSG15-0100-NA-20201012032917.497000000Z-NA/browse",
             "mediaType": "image/jpeg",
             "title": "Quicklook",
             "type": "Link"
            }
           ],
           "sip-entries": [
            {
             "href": "https://api.eumetsat.int/data/download/products/MSG3-SEVI-MSG15-0100-NA-20201012032917.497000000Z-NA/entry?name=MSG3-SEVI-MSG15-0100-NA-20201012032917.497000000Z-NA.nat",
             "mediaType": "application/octet-stream",
             "title": "MSG3-SEVI-MSG15-0100-NA-20201012032917.497000000Z-NA.nat",
             "type": "Link"
            },
            {
             "href": "https://api.eumetsat.int/data/download/products/MSG3-SEVI-MSG15-0100-NA-20201012032917.497000000Z-NA/entry?name=EOPMetadata.xml",
             "mediaType": "application/xml",
             "title": "EOPMetadata.xml",
             "type": "Link"
            },
            {
             "href": "https://api.eumetsat.int/data/download/products/MSG3-SEVI-MSG15-0100-NA-20201012032917.497000000Z-NA/entry?name=manifest.xml",
             "mediaType": "application/xml",
             "title": "manifest.xml",
             "type": "Link"
            }
           ],
           "type": "Links"
          },
          "parentIdentifier": "EO:EUM:DAT:MSG:MSG15-RSS",
          "productInformation": {
           "productType": "MSG15",
           "size": 38428,
           "timeliness": "NOMINAL"
          },
          "title": "MSG3-SEVI-MSG15-0100-NA-20201012032917.497000000Z-NA",
          "updated": "2020-10-12T03:25:11.151Z"
         },
         "type": "Feature"
        },
        {
         "geometry": {},
         "id": "MSG3-SEVI-MSG15-0100-NA-20201012032416.475000000Z-NA",
         "properties": {
          "acquisitionInformation": [
           {
            "instrument": {
             "instrumentShortName": "SEVIRI"
            },
            "platform": {
             "platformShortName": "MSG3"
            }
           }
          ],
          "date": "2020-10-12T03:20:10.13Z/2020-10-12T03:24:16.475Z",
          "identifier": "MSG3-SEVI-MSG15-0100-NA-20201012032416.475000000Z-NA",
          "links": {
           "alternates": [
            {
             "href": "https://api.eumetsat.int/data/download/products/MSG3-SEVI-MSG15-0100-NA-20201012032416.475000000Z-NA/metadata",
             "mediaType": "application/xml",
             "title": "Metadata",
             "type": "Link"
            },
            {
             "href": "https://api.eumetsat.int/data/download/products/MSG3-SEVI-MSG15-0100-NA-20201012032416.475000000Z-NA/metadata?format=json",
             "mediaType": "application/json",
             "title": "Metadata in JSON format",
             "type": "Link"
            }
           ],
           "data": [
            {
             "href": "https://api.eumetsat.int/data/download/products/MSG3-SEVI-MSG15-0100-NA-20201012032416.475000000Z-NA",
             "mediaType": "application/zip",
             "title": "Product download",
             "type": "Link"
            }
           ],
           "previews": [
            {
             "href": "https://api.eumetsat.int/data/download/products/MSG3-SEVI-MSG15-0100-NA-20201012032416.475000000Z-NA/browse",
             "mediaType": "image/jpeg",
             "title": "Quicklook",
             "type": "Link"
            }
           ],
           "sip-entries": [
            {
             "href": "https://api.eumetsat.int/data/download/products/MSG3-SEVI-MSG15-0100-NA-20201012032416.475000000Z-NA/entry?name=manifest.xml",
             "mediaType": "application/xml",
             "title": "manifest.xml",
             "type": "Link"
            },
            {
             "href": "https://api.eumetsat.int/data/download/products/MSG3-SEVI-MSG15-0100-NA-20201012032416.475000000Z-NA/entry?name=MSG3-SEVI-MSG15-0100-NA-20201012032416.475000000Z-NA.nat",
             "mediaType": "application/octet-stream",
             "title": "MSG3-SEVI-MSG15-0100-NA-20201012032416.475000000Z-NA.nat",
             "type": "Link"
            },
            {
             "href": "https://api.eumetsat.int/data/download/products/MSG3-SEVI-MSG15-0100-NA-20201012032416.475000000Z-NA/entry?name=EOPMetadata.xml",
             "mediaType": "application/xml",
             "title": "EOPMetadata.xml",
             "type": "Link"
            }
           ],
           "type": "Links"
          },
          "parentIdentifier": "EO:EUM:DAT:MSG:MSG15-RSS",
          "productInformation": {
           "productType": "MSG15",
           "size": 38180,
           "timeliness": "NOMINAL"
          },
          "title": "MSG3-SEVI-MSG15-0100-NA-20201012032416.475000000Z-NA",
          "updated": "2020-10-12T03:20:10.13Z"
         },
         "type": "Feature"
        },
        {
         "geometry": {},
         "id": "MSG3-SEVI-MSG15-0100-NA-20201012031915.454000000Z-NA",
         "properties": {
          "acquisitionInformation": [
           {
            "instrument": {
             "instrumentShortName": "SEVIRI"
            },
            "platform": {
             "platformShortName": "MSG3"
            }
           }
          ],
          "date": "2020-10-12T03:15:09.109Z/2020-10-12T03:19:15.454Z",
          "identifier": "MSG3-SEVI-MSG15-0100-NA-20201012031915.454000000Z-NA",
          "links": {
           "alternates": [
            {
             "href": "https://api.eumetsat.int/data/download/products/MSG3-SEVI-MSG15-0100-NA-20201012031915.454000000Z-NA/metadata",
             "mediaType": "application/xml",
             "title": "Metadata",
             "type": "Link"
            },
            {
             "href": "https://api.eumetsat.int/data/download/products/MSG3-SEVI-MSG15-0100-NA-20201012031915.454000000Z-NA/metadata?format=json",
             "mediaType": "application/json",
             "title": "Metadata in JSON format",
             "type": "Link"
            }
           ],
           "data": [
            {
             "href": "https://api.eumetsat.int/data/download/products/MSG3-SEVI-MSG15-0100-NA-20201012031915.454000000Z-NA",
             "mediaType": "application/zip",
             "title": "Product download",
             "type": "Link"
            }
           ],
           "previews": [
            {
             "href": "https://api.eumetsat.int/data/download/products/MSG3-SEVI-MSG15-0100-NA-20201012031915.454000000Z-NA/browse",
             "mediaType": "image/jpeg",
             "title": "Quicklook",
             "type": "Link"
            }
           ],
           "sip-entries": [
            {
             "href": "https://api.eumetsat.int/data/download/products/MSG3-SEVI-MSG15-0100-NA-20201012031915.454000000Z-NA/entry?name=EOPMetadata.xml",
             "mediaType": "application/xml",
             "title": "EOPMetadata.xml",
             "type": "Link"
            },
            {
             "href": "https://api.eumetsat.int/data/download/products/MSG3-SEVI-MSG15-0100-NA-20201012031915.454000000Z-NA/entry?name=MSG3-SEVI-MSG15-0100-NA-20201012031915.454000000Z-NA.nat",
             "mediaType": "application/octet-stream",
             "title": "MSG3-SEVI-MSG15-0100-NA-20201012031915.454000000Z-NA.nat",
             "type": "Link"
            },
            {
             "href": "https://api.eumetsat.int/data/download/products/MSG3-SEVI-MSG15-0100-NA-20201012031915.454000000Z-NA/entry?name=manifest.xml",
             "mediaType": "application/xml",
             "title": "manifest.xml",
             "type": "Link"
            }
           ],
           "type": "Links"
          },
          "parentIdentifier": "EO:EUM:DAT:MSG:MSG15-RSS",
          "productInformation": {
           "productType": "MSG15",
           "size": 37945,
           "timeliness": "NOMINAL"
          },
          "title": "MSG3-SEVI-MSG15-0100-NA-20201012031915.454000000Z-NA",
          "updated": "2020-10-12T03:15:09.109Z"
         },
         "type": "Feature"
        },
        {
         "geometry": {},
         "id": "MSG3-SEVI-MSG15-0100-NA-20201012031415.634000000Z-NA",
         "properties": {
          "acquisitionInformation": [
           {
            "instrument": {
             "instrumentShortName": "SEVIRI"
            },
            "platform": {
             "platformShortName": "MSG3"
            }
           }
          ],
          "date": "2020-10-12T03:10:09.29Z/2020-10-12T03:14:15.634Z",
          "identifier": "MSG3-SEVI-MSG15-0100-NA-20201012031415.634000000Z-NA",
          "links": {
           "alternates": [
            {
             "href": "https://api.eumetsat.int/data/download/products/MSG3-SEVI-MSG15-0100-NA-20201012031415.634000000Z-NA/metadata",
             "mediaType": "application/xml",
             "title": "Metadata",
             "type": "Link"
            },
            {
             "href": "https://api.eumetsat.int/data/download/products/MSG3-SEVI-MSG15-0100-NA-20201012031415.634000000Z-NA/metadata?format=json",
             "mediaType": "application/json",
             "title": "Metadata in JSON format",
             "type": "Link"
            }
           ],
           "data": [
            {
             "href": "https://api.eumetsat.int/data/download/products/MSG3-SEVI-MSG15-0100-NA-20201012031415.634000000Z-NA",
             "mediaType": "application/zip",
             "title": "Product download",
             "type": "Link"
            }
           ],
           "previews": [
            {
             "href": "https://api.eumetsat.int/data/download/products/MSG3-SEVI-MSG15-0100-NA-20201012031415.634000000Z-NA/browse",
             "mediaType": "image/jpeg",
             "title": "Quicklook",
             "type": "Link"
            }
           ],
           "sip-entries": [
            {
             "href": "https://api.eumetsat.int/data/download/products/MSG3-SEVI-MSG15-0100-NA-20201012031415.634000000Z-NA/entry?name=EOPMetadata.xml",
             "mediaType": "application/xml",
             "title": "EOPMetadata.xml",
             "type": "Link"
            },
            {
             "href": "https://api.eumetsat.int/data/download/products/MSG3-SEVI-MSG15-0100-NA-20201012031415.634000000Z-NA/entry?name=manifest.xml",
             "mediaType": "application/xml",
             "title": "manifest.xml",
             "type": "Link"
            },
            {
             "href": "https://api.eumetsat.int/data/download/products/MSG3-SEVI-MSG15-0100-NA-20201012031415.634000000Z-NA/entry?name=MSG3-SEVI-MSG15-0100-NA-20201012031415.634000000Z-NA.nat",
             "mediaType": "application/octet-stream",
             "title": "MSG3-SEVI-MSG15-0100-NA-20201012031415.634000000Z-NA.nat",
             "type": "Link"
            }
           ],
           "type": "Links"
          },
          "parentIdentifier": "EO:EUM:DAT:MSG:MSG15-RSS",
          "productInformation": {
           "productType": "MSG15",
           "size": 37863,
           "timeliness": "NOMINAL"
          },
          "title": "MSG3-SEVI-MSG15-0100-NA-20201012031415.634000000Z-NA",
          "updated": "2020-10-12T03:10:09.29Z"
         },
         "type": "Feature"
        },
        {
         "geometry": {},
         "id": "MSG3-SEVI-MSG15-0100-NA-20201012030915.815000000Z-NA",
         "properties": {
          "acquisitionInformation": [
           {
            "instrument": {
             "instrumentShortName": "SEVIRI"
            },
            "platform": {
             "platformShortName": "MSG3"
            }
           }
          ],
          "date": "2020-10-12T03:05:09.471Z/2020-10-12T03:09:15.815Z",
          "identifier": "MSG3-SEVI-MSG15-0100-NA-20201012030915.815000000Z-NA",
          "links": {
           "alternates": [
            {
             "href": "https://api.eumetsat.int/data/download/products/MSG3-SEVI-MSG15-0100-NA-20201012030915.815000000Z-NA/metadata",
             "mediaType": "application/xml",
             "title": "Metadata",
             "type": "Link"
            },
            {
             "href": "https://api.eumetsat.int/data/download/products/MSG3-SEVI-MSG15-0100-NA-20201012030915.815000000Z-NA/metadata?format=json",
             "mediaType": "application/json",
             "title": "Metadata in JSON format",
             "type": "Link"
            }
           ],
           "data": [
            {
             "href": "https://api.eumetsat.int/data/download/products/MSG3-SEVI-MSG15-0100-NA-20201012030915.815000000Z-NA",
             "mediaType": "application/zip",
             "title": "Product download",
             "type": "Link"
            }
           ],
           "previews": [
            {
             "href": "https://api.eumetsat.int/data/download/products/MSG3-SEVI-MSG15-0100-NA-20201012030915.815000000Z-NA/browse",
             "mediaType": "image/jpeg",
             "title": "Quicklook",
             "type": "Link"
            }
           ],
           "sip-entries": [
            {
             "href": "https://api.eumetsat.int/data/download/products/MSG3-SEVI-MSG15-0100-NA-20201012030915.815000000Z-NA/entry?name=EOPMetadata.xml",
             "mediaType": "application/xml",
             "title": "EOPMetadata.xml",
             "type": "Link"
            },
            {
             "href": "https://api.eumetsat.int/data/download/products/MSG3-SEVI-MSG15-0100-NA-20201012030915.815000000Z-NA/entry?name=MSG3-SEVI-MSG15-0100-NA-20201012030915.815000000Z-NA.nat",
             "mediaType": "application/octet-stream",
             "title": "MSG3-SEVI-MSG15-0100-NA-20201012030915.815000000Z-NA.nat",
             "type": "Link"
            },
            {
             "href": "https://api.eumetsat.int/data/download/products/MSG3-SEVI-MSG15-0100-NA-20201012030915.815000000Z-NA/entry?name=manifest.xml",
             "mediaType": "application/xml",
             "title": "manifest.xml",
             "type": "Link"
            }
           ],
           "type": "Links"
          },
          "parentIdentifier": "EO:EUM:DAT:MSG:MSG15-RSS",
          "productInformation": {
           "productType": "MSG15",
           "size": 37712,
           "timeliness": "NOMINAL"
          },
          "title": "MSG3-SEVI-MSG15-0100-NA-20201012030915.815000000Z-NA",
          "updated": "2020-10-12T03:05:09.471Z"
         },
         "type": "Feature"
        },
        {
         "geometry": {},
         "id": "MSG3-SEVI-MSG15-0100-NA-20201012030415.997000000Z-NA",
         "properties": {
          "acquisitionInformation": [
           {
            "instrument": {
             "instrumentShortName": "SEVIRI"
            },
            "platform": {
             "platformShortName": "MSG3"
            }
           }
          ],
          "date": "2020-10-12T03:00:09.654Z/2020-10-12T03:04:15.997Z",
          "identifier": "MSG3-SEVI-MSG15-0100-NA-20201012030415.997000000Z-NA",
          "links": {
           "alternates": [
            {
             "href": "https://api.eumetsat.int/data/download/products/MSG3-SEVI-MSG15-0100-NA-20201012030415.997000000Z-NA/metadata",
             "mediaType": "application/xml",
             "title": "Metadata",
             "type": "Link"
            },
            {
             "href": "https://api.eumetsat.int/data/download/products/MSG3-SEVI-MSG15-0100-NA-20201012030415.997000000Z-NA/metadata?format=json",
             "mediaType": "application/json",
             "title": "Metadata in JSON format",
             "type": "Link"
            }
           ],
           "data": [
            {
             "href": "https://api.eumetsat.int/data/download/products/MSG3-SEVI-MSG15-0100-NA-20201012030415.997000000Z-NA",
             "mediaType": "application/zip",
             "title": "Product download",
             "type": "Link"
            }
           ],
           "previews": [
            {
             "href": "https://api.eumetsat.int/data/download/products/MSG3-SEVI-MSG15-0100-NA-20201012030415.997000000Z-NA/browse",
             "mediaType": "image/jpeg",
             "title": "Quicklook",
             "type": "Link"
            }
           ],
           "sip-entries": [
            {
             "href": "https://api.eumetsat.int/data/download/products/MSG3-SEVI-MSG15-0100-NA-20201012030415.997000000Z-NA/entry?name=EOPMetadata.xml",
             "mediaType": "application/xml",
             "title": "EOPMetadata.xml",
             "type": "Link"
            },
            {
             "href": "https://api.eumetsat.int/data/download/products/MSG3-SEVI-MSG15-0100-NA-20201012030415.997000000Z-NA/entry?name=MSG3-SEVI-MSG15-0100-NA-20201012030415.997000000Z-NA.nat",
             "mediaType": "application/octet-stream",
             "title": "MSG3-SEVI-MSG15-0100-NA-20201012030415.997000000Z-NA.nat",
             "type": "Link"
            },
            {
             "href": "https://api.eumetsat.int/data/download/products/MSG3-SEVI-MSG15-0100-NA-20201012030415.997000000Z-NA/entry?name=manifest.xml",
             "mediaType": "application/xml",
             "title": "manifest.xml",
             "type": "Link"
            }
           ],
           "type": "Links"
          },
          "parentIdentifier": "EO:EUM:DAT:MSG:MSG15-RSS",
          "productInformation": {
           "productType": "MSG15",
           "size": 37597,
           "timeliness": "NOMINAL"
          },
          "title": "MSG3-SEVI-MSG15-0100-NA-20201012030415.997000000Z-NA",
          "updated": "2020-10-12T03:00:09.654Z"
         },
         "type": "Feature"
        }
       ],
       "id": "https://api.eumetsat.int/data/search-products/os?pi=EO:EUM:DAT:MSG:MSG15-RSS&dtstart=2020-10-11T00:00:00Z&dtend=2020-10-12T04:39:17Z&sort=start,time,0&si=0&c=20&",
       "properties": {
        "itemsPerPage": 20,
        "links": {
         "first": {
          "href": "https://api.eumetsat.int/data/search-products/os?pi=EO:EUM:DAT:MSG:MSG15-RSS&dtstart=2020-10-11T00:00:00Z&dtend=2020-10-12T04:39:17Z&sort=start,time,0&c=20&format=json",
          "title": "first result page",
          "type": "application/json"
         },
         "last": {
          "href": "https://api.eumetsat.int/data/search-products/os?pi=EO:EUM:DAT:MSG:MSG15-RSS&dtstart=2020-10-11T00:00:00Z&dtend=2020-10-12T04:39:17Z&sort=start,time,0&si=340&c=20&format=json",
          "title": "last result page",
          "type": "application/json"
         },
         "next": {
          "href": "https://api.eumetsat.int/data/search-products/os?pi=EO:EUM:DAT:MSG:MSG15-RSS&dtstart=2020-10-11T00:00:00Z&dtend=2020-10-12T04:39:17Z&sort=start,time,0&si=20&c=20&format=json",
          "title": "next result page",
          "type": "application/json"
         },
         "search": {
          "href": "https://api.eumetsat.int/data/search-products/os?",
          "title": "OpenSearch Description Document",
          "type": "application/opensearchdescription+xml"
         },
         "self": {
          "href": "https://api.eumetsat.int/data/search-products/os?pi=EO:EUM:DAT:MSG:MSG15-RSS&dtstart=2020-10-11T00:00:00Z&dtend=2020-10-12T04:39:17Z&sort=start,time,0&si=0&c=20&format=json",
          "title": "this search",
          "type": "application/json"
         }
        },
        "parameters": [
         {
          "minimum": 0,
          "name": "sat",
          "options": [
           {
            "results": 343,
            "value": "MSG3"
           }
          ],
          "title": "Mission / Satellite",
          "value": "platformShortName"
         },
         {
          "maxInclusive": "2020-10-12T04:35:08.669Z",
          "minInclusive": "2020-10-11T00:00:12.720Z",
          "minimum": 0,
          "name": "dtstart",
          "title": "Temporal Start",
          "value": "start"
         },
         {
          "maxInclusive": "2020-10-12T04:39:15.018Z",
          "minInclusive": "2020-10-11T00:04:19.037Z",
          "minimum": 0,
          "name": "dtend",
          "title": "Temporal End",
          "value": "end"
         }
        ],
        "rights": "Copyright",
        "startIndex": 0,
        "subTitle": "Search results for your query pi=EO:EUM:DAT:MSG:MSG15-RSS&dtstart=2020-10-11T00:00:00Z&dtend=2020-10-12T04:39:17Z&sort=start,time,0&si=0&c=20&",
        "subject": "climatologyMeteorologyAtmosphere",
        "title": "EUMETSAT OLDA EOP OpenSearch (EOPOS) results feed for EO:EUM:DAT:MSG:MSG15-RSS",
        "totalResults": 343,
        "type": "Properties",
        "updated": "2020-10-12T11:01:47.615Z"
       },
       "type": "FeatureCollection"
      },
      "text/plain": [
       "<IPython.core.display.JSON object>"
      ]
     },
     "execution_count": 94,
     "metadata": {
      "application/json": {
       "expanded": false,
       "root": "root"
      }
     },
     "output_type": "execute_result"
    }
   ],
   "source": [
    "search_url = 'https://api.eumetsat.int/data/search-products/os'\n",
    " \n",
    "params = {\n",
    "    'format': 'json',\n",
    "    'pi': 'EO:EUM:DAT:MSG:MSG15-RSS',\n",
    "    'si': '0',\n",
    "    'c': '20',\n",
    "    'sort': 'start,time,0',\n",
    "    'dtstart': '2020-10-11T00:00:00Z',\n",
    "    'dtend': '2020-10-12T04:39:17Z'\n",
    "}\n",
    "\n",
    "r = requests.get(search_url, params=params)\n",
    "\n",
    "assert r.ok, f'Request was unsuccesfull - Error code: {r.status_code}'\n",
    "\n",
    "r_json = r.json()\n",
    "JSON(r_json)"
   ]
  },
  {
   "cell_type": "code",
   "execution_count": null,
   "metadata": {},
   "outputs": [],
   "source": []
  },
  {
   "cell_type": "code",
   "execution_count": 97,
   "metadata": {},
   "outputs": [
    {
     "data": {
      "text/plain": [
       "'https://api.eumetsat.int/data/download/products/MSG3-SEVI-MSG15-0100-NA-20201012043915.018000000Z-NA'"
      ]
     },
     "execution_count": 97,
     "metadata": {},
     "output_type": "execute_result"
    }
   ],
   "source": [
    "data_id_to_link = lambda data_id: f'https://api.eumetsat.int/data/download/products/{data_id}'\n",
    "\n",
    "data_ids = [ftr['id'] for ftr in r_json['features']]\n",
    "data_links = [data_id_to_link(data_id) for data_id in data_ids]\n",
    "\n",
    "example_data_link = data_links[0]\n",
    "\n",
    "example_data_link"
   ]
  },
  {
   "cell_type": "markdown",
   "metadata": {},
   "source": [
    "<br>\n",
    "\n",
    "### Downloading Data"
   ]
  },
  {
   "cell_type": "code",
   "execution_count": 107,
   "metadata": {},
   "outputs": [],
   "source": [
    "class InvalidCredentials(Exception):\n",
    "    pass\n",
    "\n",
    "def check_valid_request(r):\n",
    "    if r.ok == False:\n",
    "        if 'Invalid Credentials' in r.text:\n",
    "            raise InvalidCredentials('The access token passed in the API request is invalid')\n",
    "        else:\n",
    "            raise Exception('The API request was unsuccesful')\n",
    "            \n",
    "params = {\n",
    "    'access_token': access_token\n",
    "}\n",
    "\n",
    "r = requests.get(example_data_link, params=params)\n",
    "\n",
    "check_valid_request(r)\n",
    "\n",
    "zipped_files = zipfile.ZipFile(io.BytesIO(r.content))\n",
    "zipped_files.extractall(f'{data_dir}/test')"
   ]
  },
  {
   "cell_type": "code",
   "execution_count": null,
   "metadata": {},
   "outputs": [],
   "source": []
  },
  {
   "cell_type": "code",
   "execution_count": null,
   "metadata": {},
   "outputs": [],
   "source": []
  },
  {
   "cell_type": "code",
   "execution_count": null,
   "metadata": {},
   "outputs": [],
   "source": []
  },
  {
   "cell_type": "code",
   "execution_count": null,
   "metadata": {},
   "outputs": [],
   "source": []
  }
 ],
 "metadata": {
  "kernelspec": {
   "display_name": "sat_image_processing",
   "language": "python",
   "name": "sat_image_processing"
  },
  "language_info": {
   "codemirror_mode": {
    "name": "ipython",
    "version": 3
   },
   "file_extension": ".py",
   "mimetype": "text/x-python",
   "name": "python",
   "nbconvert_exporter": "python",
   "pygments_lexer": "ipython3",
   "version": "3.8.6"
  }
 },
 "nbformat": 4,
 "nbformat_minor": 4
}
