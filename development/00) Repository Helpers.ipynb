{
 "cells": [
  {
   "cell_type": "markdown",
   "metadata": {},
   "source": [
    "# Repository Helpers\n",
    "\n",
    "This notebook includes code for helping populate the README as well as other more general tasks related to keeping the repository tidy\n",
    "\n",
    "<br>\n",
    "\n",
    "### Imports"
   ]
  },
  {
   "cell_type": "code",
   "execution_count": 2,
   "metadata": {},
   "outputs": [],
   "source": [
    "import pandas as pd"
   ]
  },
  {
   "cell_type": "markdown",
   "metadata": {},
   "source": [
    "<br>\n",
    "\n",
    "### Notebook Information"
   ]
  },
  {
   "cell_type": "code",
   "execution_count": 8,
   "metadata": {},
   "outputs": [
    {
     "name": "stdout",
     "output_type": "stream",
     "text": [
      "| Name                 | Directory      |   Number | Description                                 | Maintainer   |\n",
      "|:---------------------|:---------------|---------:|:--------------------------------------------|:-------------|\n",
      "| Repository Helpers   | notebooks      |       00 | Code for keeping the repository tidy        | Ayrton Bourn |\n",
      "| EUMETSAT API Wrapper | notebooks      |       01 | Development of the API wrapper for ems      | Ayrton Bourn |\n",
      "| Data Transformation  | notebooks      |       02 | Intial EDA and transformation comparisons   | Ayrton Bourn |\n",
      "| EUMETSAT Download    | usage_examples |       00 | Guidance for using the ems download manager | Ayrton Bourn |\n"
     ]
    }
   ],
   "source": [
    "def print_notebook_info_markdown(notebook_info):\n",
    "    df_nbs = pd.DataFrame(notebook_info).T\n",
    "    df_nbs.index.name = 'Name'\n",
    "\n",
    "    print(df_nbs.to_markdown())\n",
    "    \n",
    "notebook_info = {\n",
    "    # notebooks\n",
    "    'Repository Helpers': {\n",
    "        'Directory': 'notebooks',\n",
    "        'Number': '00',\n",
    "        'Description': 'Code for keeping the repository tidy',\n",
    "        'Maintainer': 'Ayrton Bourn'\n",
    "    },\n",
    "    'EUMETSAT API Wrapper': {\n",
    "        'Directory': 'notebooks',\n",
    "        'Number': '01',\n",
    "        'Description': 'Development of the API wrapper for ems',\n",
    "        'Maintainer': 'Ayrton Bourn'\n",
    "    },\n",
    "    'Data Transformation': {\n",
    "        'Directory': 'notebooks',\n",
    "        'Number': '02',\n",
    "        'Description': 'Intial EDA and transformation comparisons',\n",
    "        'Maintainer': 'Ayrton Bourn'\n",
    "    },\n",
    "    # usage_examples\n",
    "    'EUMETSAT Download': {\n",
    "        'Directory': 'usage_examples',\n",
    "        'Number': '00',\n",
    "        'Description': 'Guidance for using the ems download manager',\n",
    "        'Maintainer': 'Ayrton Bourn'\n",
    "    },\n",
    "}\n",
    "\n",
    "print_notebook_info_markdown(notebook_info)"
   ]
  }
 ],
 "metadata": {
  "kernelspec": {
   "display_name": "sat_image_processing",
   "language": "python",
   "name": "sat_image_processing"
  },
  "language_info": {
   "codemirror_mode": {
    "name": "ipython",
    "version": 3
   },
   "file_extension": ".py",
   "mimetype": "text/x-python",
   "name": "python",
   "nbconvert_exporter": "python",
   "pygments_lexer": "ipython3",
   "version": "3.8.6"
  }
 },
 "nbformat": 4,
 "nbformat_minor": 4
}
